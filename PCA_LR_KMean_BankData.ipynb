{
 "cells": [
  {
   "cell_type": "markdown",
   "metadata": {},
   "source": [
    "# Principal Component Analysis (PCA)"
   ]
  },
  {
   "cell_type": "markdown",
   "metadata": {},
   "source": [
    "- Principal Component Analysis (PCA) is a well-known unsupervised dimensionality reduction technique that can be utilized for extracting information from a high-dimensional space by projecting it into a lower-dimensional sub-space. It tries to preserve the essential parts that have more variation of the data and remove the non-essential parts with fewer variation. \n",
    "- The new variables correspond to a linear combination of the originals. The number of principal components is less than or equal to the number of original variables.\n",
    "- The information in a given data set corresponds to the total variation it contains. The goal of PCA is to identify directions (or principal components) along which the variation in the data is maximal. In other words, PCA reduces the dimensionality of a multivariate data to two or three principal components, that can be visualized graphically, with minimal loss of information.\n",
    "- Each principal component represents a percentage of total variation captured from the data."
   ]
  },
  {
   "cell_type": "code",
   "execution_count": 2,
   "metadata": {},
   "outputs": [],
   "source": [
    "# Importing libraries\n",
    "import pandas as pd\n",
    "import numpy as np\n",
    "import statsmodels.api as sm\n",
    "from sklearn.preprocessing import StandardScaler\n",
    "from sklearn.cluster import KMeans\n",
    "from sklearn import preprocessing\n",
    "from sklearn.decomposition import PCA\n",
    "import matplotlib.pyplot as plt\n",
    "import seaborn as sns\n",
    "import warnings\n",
    "warnings.filterwarnings('ignore')\n",
    "np.set_printoptions(formatter={'float': lambda x: \"{0:0.2f}\".format(x)})"
   ]
  },
  {
   "cell_type": "code",
   "execution_count": 3,
   "metadata": {},
   "outputs": [
    {
     "data": {
      "text/html": [
       "<div>\n",
       "<style scoped>\n",
       "    .dataframe tbody tr th:only-of-type {\n",
       "        vertical-align: middle;\n",
       "    }\n",
       "\n",
       "    .dataframe tbody tr th {\n",
       "        vertical-align: top;\n",
       "    }\n",
       "\n",
       "    .dataframe thead th {\n",
       "        text-align: right;\n",
       "    }\n",
       "</style>\n",
       "<table border=\"1\" class=\"dataframe\">\n",
       "  <thead>\n",
       "    <tr style=\"text-align: right;\">\n",
       "      <th></th>\n",
       "      <th>age</th>\n",
       "      <th>job</th>\n",
       "      <th>marital</th>\n",
       "      <th>education</th>\n",
       "      <th>default</th>\n",
       "      <th>housing</th>\n",
       "      <th>loan</th>\n",
       "      <th>contact</th>\n",
       "      <th>month</th>\n",
       "      <th>day_of_week</th>\n",
       "      <th>...</th>\n",
       "      <th>pdays</th>\n",
       "      <th>previous</th>\n",
       "      <th>poutcome</th>\n",
       "      <th>emp.var.rate</th>\n",
       "      <th>cons.price.idx</th>\n",
       "      <th>cons.conf.idx</th>\n",
       "      <th>euribor3m</th>\n",
       "      <th>nr.employed</th>\n",
       "      <th>y</th>\n",
       "      <th>deposit</th>\n",
       "    </tr>\n",
       "  </thead>\n",
       "  <tbody>\n",
       "    <tr>\n",
       "      <th>0</th>\n",
       "      <td>56</td>\n",
       "      <td>housemaid</td>\n",
       "      <td>married</td>\n",
       "      <td>basic.4y</td>\n",
       "      <td>no</td>\n",
       "      <td>no</td>\n",
       "      <td>no</td>\n",
       "      <td>telephone</td>\n",
       "      <td>may</td>\n",
       "      <td>mon</td>\n",
       "      <td>...</td>\n",
       "      <td>999</td>\n",
       "      <td>0</td>\n",
       "      <td>nonexistent</td>\n",
       "      <td>1.1</td>\n",
       "      <td>93.994</td>\n",
       "      <td>-36.4</td>\n",
       "      <td>4.857</td>\n",
       "      <td>5191.0</td>\n",
       "      <td>no</td>\n",
       "      <td>0</td>\n",
       "    </tr>\n",
       "    <tr>\n",
       "      <th>1</th>\n",
       "      <td>57</td>\n",
       "      <td>services</td>\n",
       "      <td>married</td>\n",
       "      <td>high.school</td>\n",
       "      <td>unknown</td>\n",
       "      <td>no</td>\n",
       "      <td>no</td>\n",
       "      <td>telephone</td>\n",
       "      <td>may</td>\n",
       "      <td>mon</td>\n",
       "      <td>...</td>\n",
       "      <td>999</td>\n",
       "      <td>0</td>\n",
       "      <td>nonexistent</td>\n",
       "      <td>1.1</td>\n",
       "      <td>93.994</td>\n",
       "      <td>-36.4</td>\n",
       "      <td>4.857</td>\n",
       "      <td>5191.0</td>\n",
       "      <td>no</td>\n",
       "      <td>0</td>\n",
       "    </tr>\n",
       "    <tr>\n",
       "      <th>2</th>\n",
       "      <td>37</td>\n",
       "      <td>services</td>\n",
       "      <td>married</td>\n",
       "      <td>high.school</td>\n",
       "      <td>no</td>\n",
       "      <td>yes</td>\n",
       "      <td>no</td>\n",
       "      <td>telephone</td>\n",
       "      <td>may</td>\n",
       "      <td>mon</td>\n",
       "      <td>...</td>\n",
       "      <td>999</td>\n",
       "      <td>0</td>\n",
       "      <td>nonexistent</td>\n",
       "      <td>1.1</td>\n",
       "      <td>93.994</td>\n",
       "      <td>-36.4</td>\n",
       "      <td>4.857</td>\n",
       "      <td>5191.0</td>\n",
       "      <td>no</td>\n",
       "      <td>0</td>\n",
       "    </tr>\n",
       "    <tr>\n",
       "      <th>3</th>\n",
       "      <td>40</td>\n",
       "      <td>admin.</td>\n",
       "      <td>married</td>\n",
       "      <td>basic.6y</td>\n",
       "      <td>no</td>\n",
       "      <td>no</td>\n",
       "      <td>no</td>\n",
       "      <td>telephone</td>\n",
       "      <td>may</td>\n",
       "      <td>mon</td>\n",
       "      <td>...</td>\n",
       "      <td>999</td>\n",
       "      <td>0</td>\n",
       "      <td>nonexistent</td>\n",
       "      <td>1.1</td>\n",
       "      <td>93.994</td>\n",
       "      <td>-36.4</td>\n",
       "      <td>4.857</td>\n",
       "      <td>5191.0</td>\n",
       "      <td>no</td>\n",
       "      <td>0</td>\n",
       "    </tr>\n",
       "    <tr>\n",
       "      <th>4</th>\n",
       "      <td>56</td>\n",
       "      <td>services</td>\n",
       "      <td>married</td>\n",
       "      <td>high.school</td>\n",
       "      <td>no</td>\n",
       "      <td>no</td>\n",
       "      <td>yes</td>\n",
       "      <td>telephone</td>\n",
       "      <td>may</td>\n",
       "      <td>mon</td>\n",
       "      <td>...</td>\n",
       "      <td>999</td>\n",
       "      <td>0</td>\n",
       "      <td>nonexistent</td>\n",
       "      <td>1.1</td>\n",
       "      <td>93.994</td>\n",
       "      <td>-36.4</td>\n",
       "      <td>4.857</td>\n",
       "      <td>5191.0</td>\n",
       "      <td>no</td>\n",
       "      <td>0</td>\n",
       "    </tr>\n",
       "  </tbody>\n",
       "</table>\n",
       "<p>5 rows × 22 columns</p>\n",
       "</div>"
      ],
      "text/plain": [
       "   age        job  marital    education  default housing loan    contact  \\\n",
       "0   56  housemaid  married     basic.4y       no      no   no  telephone   \n",
       "1   57   services  married  high.school  unknown      no   no  telephone   \n",
       "2   37   services  married  high.school       no     yes   no  telephone   \n",
       "3   40     admin.  married     basic.6y       no      no   no  telephone   \n",
       "4   56   services  married  high.school       no      no  yes  telephone   \n",
       "\n",
       "  month day_of_week  ...  pdays  previous     poutcome  emp.var.rate  \\\n",
       "0   may         mon  ...    999         0  nonexistent           1.1   \n",
       "1   may         mon  ...    999         0  nonexistent           1.1   \n",
       "2   may         mon  ...    999         0  nonexistent           1.1   \n",
       "3   may         mon  ...    999         0  nonexistent           1.1   \n",
       "4   may         mon  ...    999         0  nonexistent           1.1   \n",
       "\n",
       "  cons.price.idx  cons.conf.idx  euribor3m  nr.employed   y  deposit  \n",
       "0         93.994          -36.4      4.857       5191.0  no        0  \n",
       "1         93.994          -36.4      4.857       5191.0  no        0  \n",
       "2         93.994          -36.4      4.857       5191.0  no        0  \n",
       "3         93.994          -36.4      4.857       5191.0  no        0  \n",
       "4         93.994          -36.4      4.857       5191.0  no        0  \n",
       "\n",
       "[5 rows x 22 columns]"
      ]
     },
     "execution_count": 3,
     "metadata": {},
     "output_type": "execute_result"
    }
   ],
   "source": [
    "# Importing csv file and creating dataframe\n",
    "bm = pd.read_csv('bank-additional-full.csv', delimiter=';')\n",
    "\n",
    "# Changing target variable to a dummy variable\n",
    "bm['deposit'] = bm.y.map({'no':0, 'yes':1})\n",
    "bm.head()"
   ]
  },
  {
   "cell_type": "markdown",
   "metadata": {},
   "source": [
    "## Standardization\n",
    "- Standardization of a dataset is a common requirement for many machine learning technique including PCA "
   ]
  },
  {
   "cell_type": "code",
   "execution_count": 4,
   "metadata": {},
   "outputs": [],
   "source": [
    "# All non numeric variables and \"pdays\" column because of having too many observations equal to 999 - means \n",
    "# client was not previously contacted - are not included in new dataframe\n",
    "# We also remove the target variable 'y' from the PCA computation, but we will add it again to the output\n",
    "\n",
    "bm2 = bm[['age','duration','campaign','previous','emp.var.rate','cons.price.idx','cons.conf.idx',\n",
    "         'euribor3m','nr.employed']]\n",
    "bm_t = pd.DataFrame(data = bm, columns = ['deposit'])\n",
    "\n",
    "# Standardize the variables\n",
    "\n",
    "scaler = StandardScaler()\n",
    "scaler.fit(bm2)\n",
    "bm_scaled = scaler.transform(bm2)"
   ]
  },
  {
   "cell_type": "markdown",
   "metadata": {},
   "source": [
    "## PC Analysis\n",
    "- Next lines of code will be projecting the nine-dimensional data to three-dimensional principal components.\n",
    "- We applied the sklearn library to import the PCA module, and in the PCA method, the number of components is passed to 3 and finally calling fit_transform on it in order to aggregate data. Here, several components represent the lower dimension in which will project the higher dimension data."
   ]
  },
  {
   "cell_type": "code",
   "execution_count": 5,
   "metadata": {
    "scrolled": false
   },
   "outputs": [
    {
     "name": "stdout",
     "output_type": "stream",
     "text": [
      "Shape of dataframe before dimensional reduction:  (41188, 9)\n",
      "Shape of dataframe after dimensional reduction:  (41188, 3)\n"
     ]
    }
   ],
   "source": [
    "pca = PCA(n_components=3)\n",
    "pca.fit(bm_scaled)\n",
    "bm_pca_ = pca.fit_transform(bm_scaled)\n",
    "print('Shape of dataframe before dimensional reduction: ', bm_scaled.shape)\n",
    "print('Shape of dataframe after dimensional reduction: ', bm_pca_.shape)"
   ]
  },
  {
   "cell_type": "code",
   "execution_count": 7,
   "metadata": {},
   "outputs": [
    {
     "data": {
      "text/html": [
       "<div>\n",
       "<style scoped>\n",
       "    .dataframe tbody tr th:only-of-type {\n",
       "        vertical-align: middle;\n",
       "    }\n",
       "\n",
       "    .dataframe tbody tr th {\n",
       "        vertical-align: top;\n",
       "    }\n",
       "\n",
       "    .dataframe thead th {\n",
       "        text-align: right;\n",
       "    }\n",
       "</style>\n",
       "<table border=\"1\" class=\"dataframe\">\n",
       "  <thead>\n",
       "    <tr style=\"text-align: right;\">\n",
       "      <th></th>\n",
       "      <th>PCA_1</th>\n",
       "      <th>PCA_2</th>\n",
       "      <th>PCA_3</th>\n",
       "      <th>deposit</th>\n",
       "    </tr>\n",
       "  </thead>\n",
       "  <tbody>\n",
       "    <tr>\n",
       "      <th>0</th>\n",
       "      <td>-1.277794</td>\n",
       "      <td>1.707244</td>\n",
       "      <td>0.033658</td>\n",
       "      <td>0</td>\n",
       "    </tr>\n",
       "    <tr>\n",
       "      <th>1</th>\n",
       "      <td>-1.288162</td>\n",
       "      <td>1.728169</td>\n",
       "      <td>-0.321000</td>\n",
       "      <td>0</td>\n",
       "    </tr>\n",
       "    <tr>\n",
       "      <th>2</th>\n",
       "      <td>-1.276956</td>\n",
       "      <td>0.462549</td>\n",
       "      <td>0.369582</td>\n",
       "      <td>0</td>\n",
       "    </tr>\n",
       "    <tr>\n",
       "      <th>3</th>\n",
       "      <td>-1.284391</td>\n",
       "      <td>0.627542</td>\n",
       "      <td>0.078179</td>\n",
       "      <td>0</td>\n",
       "    </tr>\n",
       "    <tr>\n",
       "      <th>4</th>\n",
       "      <td>-1.273623</td>\n",
       "      <td>1.725259</td>\n",
       "      <td>0.169821</td>\n",
       "      <td>0</td>\n",
       "    </tr>\n",
       "  </tbody>\n",
       "</table>\n",
       "</div>"
      ],
      "text/plain": [
       "      PCA_1     PCA_2     PCA_3  deposit\n",
       "0 -1.277794  1.707244  0.033658        0\n",
       "1 -1.288162  1.728169 -0.321000        0\n",
       "2 -1.276956  0.462549  0.369582        0\n",
       "3 -1.284391  0.627542  0.078179        0\n",
       "4 -1.273623  1.725259  0.169821        0"
      ]
     },
     "execution_count": 7,
     "metadata": {},
     "output_type": "execute_result"
    }
   ],
   "source": [
    "# Creating a dataframe of principal components and target variable\n",
    "\n",
    "bm_pca = pd.DataFrame(data = bm_pca_, columns = ['PCA_1','PCA_2','PCA_3'])\n",
    "bm_pca = pd.concat([bm_pca, bm_t], axis=1)\n",
    "bm_pca.head()"
   ]
  },
  {
   "cell_type": "markdown",
   "metadata": {},
   "source": [
    "- Now that we have the principal components, we can find the explained variance ratio. It will provide the amount of information or variance that each principal component holds after projecting the data to a lower dimensional."
   ]
  },
  {
   "cell_type": "code",
   "execution_count": 8,
   "metadata": {},
   "outputs": [
    {
     "name": "stdout",
     "output_type": "stream",
     "text": [
      "Explained variation per principal component:  [0.42 0.13 0.12]\n"
     ]
    }
   ],
   "source": [
    "print('Explained variation per principal component: ', pca.explained_variance_ratio_)"
   ]
  },
  {
   "cell_type": "markdown",
   "metadata": {},
   "source": [
    "## Interpretation of results\n",
    "- From the above output, we can observe that the PCA_1 holds %42 of the information while the PCA_2 and PCA_3 hold %13 and %12 of the information, respectively. Also, the other point to note is that while projecting nine-dimensional data to a three-dimensional data, %33 information was lost."
   ]
  },
  {
   "cell_type": "code",
   "execution_count": 9,
   "metadata": {},
   "outputs": [
    {
     "data": {
      "text/html": [
       "<div>\n",
       "<style scoped>\n",
       "    .dataframe tbody tr th:only-of-type {\n",
       "        vertical-align: middle;\n",
       "    }\n",
       "\n",
       "    .dataframe tbody tr th {\n",
       "        vertical-align: top;\n",
       "    }\n",
       "\n",
       "    .dataframe thead th {\n",
       "        text-align: right;\n",
       "    }\n",
       "</style>\n",
       "<table border=\"1\" class=\"dataframe\">\n",
       "  <thead>\n",
       "    <tr style=\"text-align: right;\">\n",
       "      <th></th>\n",
       "      <th>age</th>\n",
       "      <th>duration</th>\n",
       "      <th>campaign</th>\n",
       "      <th>previous</th>\n",
       "      <th>emp.var.rate</th>\n",
       "      <th>cons.price.idx</th>\n",
       "      <th>cons.conf.idx</th>\n",
       "      <th>euribor3m</th>\n",
       "      <th>nr.employed</th>\n",
       "      <th>deposit</th>\n",
       "    </tr>\n",
       "  </thead>\n",
       "  <tbody>\n",
       "    <tr>\n",
       "      <th>0</th>\n",
       "      <td>56</td>\n",
       "      <td>261</td>\n",
       "      <td>1</td>\n",
       "      <td>0</td>\n",
       "      <td>1.1</td>\n",
       "      <td>93.994</td>\n",
       "      <td>-36.4</td>\n",
       "      <td>4.857</td>\n",
       "      <td>5191.0</td>\n",
       "      <td>0</td>\n",
       "    </tr>\n",
       "    <tr>\n",
       "      <th>1</th>\n",
       "      <td>57</td>\n",
       "      <td>149</td>\n",
       "      <td>1</td>\n",
       "      <td>0</td>\n",
       "      <td>1.1</td>\n",
       "      <td>93.994</td>\n",
       "      <td>-36.4</td>\n",
       "      <td>4.857</td>\n",
       "      <td>5191.0</td>\n",
       "      <td>0</td>\n",
       "    </tr>\n",
       "    <tr>\n",
       "      <th>2</th>\n",
       "      <td>37</td>\n",
       "      <td>226</td>\n",
       "      <td>1</td>\n",
       "      <td>0</td>\n",
       "      <td>1.1</td>\n",
       "      <td>93.994</td>\n",
       "      <td>-36.4</td>\n",
       "      <td>4.857</td>\n",
       "      <td>5191.0</td>\n",
       "      <td>0</td>\n",
       "    </tr>\n",
       "    <tr>\n",
       "      <th>3</th>\n",
       "      <td>40</td>\n",
       "      <td>151</td>\n",
       "      <td>1</td>\n",
       "      <td>0</td>\n",
       "      <td>1.1</td>\n",
       "      <td>93.994</td>\n",
       "      <td>-36.4</td>\n",
       "      <td>4.857</td>\n",
       "      <td>5191.0</td>\n",
       "      <td>0</td>\n",
       "    </tr>\n",
       "    <tr>\n",
       "      <th>4</th>\n",
       "      <td>56</td>\n",
       "      <td>307</td>\n",
       "      <td>1</td>\n",
       "      <td>0</td>\n",
       "      <td>1.1</td>\n",
       "      <td>93.994</td>\n",
       "      <td>-36.4</td>\n",
       "      <td>4.857</td>\n",
       "      <td>5191.0</td>\n",
       "      <td>0</td>\n",
       "    </tr>\n",
       "  </tbody>\n",
       "</table>\n",
       "</div>"
      ],
      "text/plain": [
       "   age  duration  campaign  previous  emp.var.rate  cons.price.idx  \\\n",
       "0   56       261         1         0           1.1          93.994   \n",
       "1   57       149         1         0           1.1          93.994   \n",
       "2   37       226         1         0           1.1          93.994   \n",
       "3   40       151         1         0           1.1          93.994   \n",
       "4   56       307         1         0           1.1          93.994   \n",
       "\n",
       "   cons.conf.idx  euribor3m  nr.employed  deposit  \n",
       "0          -36.4      4.857       5191.0        0  \n",
       "1          -36.4      4.857       5191.0        0  \n",
       "2          -36.4      4.857       5191.0        0  \n",
       "3          -36.4      4.857       5191.0        0  \n",
       "4          -36.4      4.857       5191.0        0  "
      ]
     },
     "execution_count": 9,
     "metadata": {},
     "output_type": "execute_result"
    }
   ],
   "source": [
    "# Adding target variable to bm dataframe\n",
    "\n",
    "bm3 = pd.concat([bm2, bm_t], axis=1)\n",
    "bm3.head()"
   ]
  },
  {
   "cell_type": "markdown",
   "metadata": {},
   "source": [
    "## Correlation Matrix before and after Principal Component Analysis"
   ]
  },
  {
   "cell_type": "code",
   "execution_count": 10,
   "metadata": {},
   "outputs": [
    {
     "data": {
      "image/png": "[encoded data removed]",
      "text/plain": [
       "<Figure size 864x648 with 2 Axes>"
      ]
     },
     "metadata": {
      "needs_background": "light"
     },
     "output_type": "display_data"
    }
   ],
   "source": [
    "# Correlation matrix before PCA\n",
    "\n",
    "plt.figure(figsize=(12,9))\n",
    "mask = np.triu(np.ones_like(bm3.corr()))\n",
    "corr_matrix1 = bm3.corr()\n",
    "corr_matrix1 = round(corr_matrix1,2)\n",
    "sns.heatmap(corr_matrix1, cmap = 'YlGnBu', annot = True, mask=mask)\n",
    "plt.title('Correlation matrix before PCA', fontsize=20);"
   ]
  },
  {
   "cell_type": "code",
   "execution_count": 11,
   "metadata": {},
   "outputs": [
    {
     "data": {
      "image/png": "[encoded data removed]",
      "text/plain": [
       "<Figure size 576x432 with 2 Axes>"
      ]
     },
     "metadata": {
      "needs_background": "light"
     },
     "output_type": "display_data"
    }
   ],
   "source": [
    "# Correlation matrix after PCA\n",
    "\n",
    "plt.figure(figsize=(8,6))\n",
    "mask = np.triu(np.ones_like(bm_pca.corr()))\n",
    "corr_matrix2 = bm_pca.corr()\n",
    "corr_matrix2 = round(corr_matrix2,3)\n",
    "sns.heatmap(corr_matrix2, cmap = 'YlGnBu', annot = True, mask=mask)\n",
    "plt.title('Correlation matrix after PCA', fontsize=20);"
   ]
  },
  {
   "cell_type": "markdown",
   "metadata": {},
   "source": [
    "## Feature contribution\n",
    "- The contribution of each feature is reflected by the magnitude of the corresponding values in the eigenvectors (higher magnitude — higher contribution)."
   ]
  },
  {
   "cell_type": "code",
   "execution_count": 12,
   "metadata": {},
   "outputs": [
    {
     "name": "stdout",
     "output_type": "stream",
     "text": [
      "[[0.00 0.02 0.10 0.28 0.51 0.39 0.12 0.51 0.48]\n",
      " [0.68 0.10 0.23 0.13 0.00 0.05 0.67 0.06 0.07]\n",
      " [0.24 0.77 0.58 0.03 0.04 0.07 0.06 0.04 0.03]]\n"
     ]
    }
   ],
   "source": [
    "# Finding the most important features\n",
    "\n",
    "print(abs(pca.components_))"
   ]
  },
  {
   "cell_type": "markdown",
   "metadata": {},
   "source": [
    "## Interpretation of results\n",
    "- Considering age, duration, campaign, previous, emp.var.rate, cons.price.idx, cons.conf.idx, euribor3m, nr.employed as features number 1 to 9, we can conclude:\n",
    "- Feature 5, 8 and 9 are the most important features for PCA_1. \n",
    "- Feature 1 and 7 are the most important features for PCA_2.\n",
    "- Feature 2, 3 and 1 are the most important features for PCA_3."
   ]
  },
  {
   "cell_type": "markdown",
   "metadata": {},
   "source": [
    "## Logestic regression before and after Principal Component Analysis"
   ]
  },
  {
   "cell_type": "code",
   "execution_count": 13,
   "metadata": {},
   "outputs": [
    {
     "name": "stdout",
     "output_type": "stream",
     "text": [
      "Optimization terminated successfully.\n",
      "         Current function value: 0.226325\n",
      "         Iterations 8\n"
     ]
    },
    {
     "data": {
      "text/html": [
       "<table class=\"simpletable\">\n",
       "<caption>Logit Regression Results</caption>\n",
       "<tr>\n",
       "  <th>Dep. Variable:</th>        <td>deposit</td>     <th>  No. Observations:  </th>  <td> 41188</td> \n",
       "</tr>\n",
       "<tr>\n",
       "  <th>Model:</th>                 <td>Logit</td>      <th>  Df Residuals:      </th>  <td> 41178</td> \n",
       "</tr>\n",
       "<tr>\n",
       "  <th>Method:</th>                 <td>MLE</td>       <th>  Df Model:          </th>  <td>     9</td> \n",
       "</tr>\n",
       "<tr>\n",
       "  <th>Date:</th>            <td>Wed, 08 Sep 2021</td> <th>  Pseudo R-squ.:     </th>  <td>0.3571</td> \n",
       "</tr>\n",
       "<tr>\n",
       "  <th>Time:</th>                <td>16:55:49</td>     <th>  Log-Likelihood:    </th> <td> -9321.9</td>\n",
       "</tr>\n",
       "<tr>\n",
       "  <th>converged:</th>             <td>True</td>       <th>  LL-Null:           </th> <td> -14499.</td>\n",
       "</tr>\n",
       "<tr>\n",
       "  <th>Covariance Type:</th>     <td>nonrobust</td>    <th>  LLR p-value:       </th>  <td> 0.000</td> \n",
       "</tr>\n",
       "</table>\n",
       "<table class=\"simpletable\">\n",
       "<tr>\n",
       "         <td></td>           <th>coef</th>     <th>std err</th>      <th>z</th>      <th>P>|z|</th>  <th>[0.025</th>    <th>0.975]</th>  \n",
       "</tr>\n",
       "<tr>\n",
       "  <th>const</th>          <td>  -33.3305</td> <td>   15.383</td> <td>   -2.167</td> <td> 0.030</td> <td>  -63.481</td> <td>   -3.180</td>\n",
       "</tr>\n",
       "<tr>\n",
       "  <th>age</th>            <td>    0.0016</td> <td>    0.002</td> <td>    0.994</td> <td> 0.320</td> <td>   -0.002</td> <td>    0.005</td>\n",
       "</tr>\n",
       "<tr>\n",
       "  <th>duration</th>       <td>    0.0046</td> <td> 7.13e-05</td> <td>   63.888</td> <td> 0.000</td> <td>    0.004</td> <td>    0.005</td>\n",
       "</tr>\n",
       "<tr>\n",
       "  <th>campaign</th>       <td>   -0.0431</td> <td>    0.011</td> <td>   -3.808</td> <td> 0.000</td> <td>   -0.065</td> <td>   -0.021</td>\n",
       "</tr>\n",
       "<tr>\n",
       "  <th>previous</th>       <td>    0.1995</td> <td>    0.029</td> <td>    6.788</td> <td> 0.000</td> <td>    0.142</td> <td>    0.257</td>\n",
       "</tr>\n",
       "<tr>\n",
       "  <th>emp.var.rate</th>   <td>   -0.6540</td> <td>    0.066</td> <td>   -9.888</td> <td> 0.000</td> <td>   -0.784</td> <td>   -0.524</td>\n",
       "</tr>\n",
       "<tr>\n",
       "  <th>cons.price.idx</th> <td>    0.7169</td> <td>    0.098</td> <td>    7.299</td> <td> 0.000</td> <td>    0.524</td> <td>    0.909</td>\n",
       "</tr>\n",
       "<tr>\n",
       "  <th>cons.conf.idx</th>  <td>    0.0426</td> <td>    0.006</td> <td>    7.435</td> <td> 0.000</td> <td>    0.031</td> <td>    0.054</td>\n",
       "</tr>\n",
       "<tr>\n",
       "  <th>euribor3m</th>      <td>    0.0560</td> <td>    0.083</td> <td>    0.677</td> <td> 0.498</td> <td>   -0.106</td> <td>    0.218</td>\n",
       "</tr>\n",
       "<tr>\n",
       "  <th>nr.employed</th>    <td>   -0.0070</td> <td>    0.001</td> <td>   -4.951</td> <td> 0.000</td> <td>   -0.010</td> <td>   -0.004</td>\n",
       "</tr>\n",
       "</table>"
      ],
      "text/plain": [
       "<class 'statsmodels.iolib.summary.Summary'>\n",
       "\"\"\"\n",
       "                           Logit Regression Results                           \n",
       "==============================================================================\n",
       "Dep. Variable:                deposit   No. Observations:                41188\n",
       "Model:                          Logit   Df Residuals:                    41178\n",
       "Method:                           MLE   Df Model:                            9\n",
       "Date:                Wed, 08 Sep 2021   Pseudo R-squ.:                  0.3571\n",
       "Time:                        16:55:49   Log-Likelihood:                -9321.9\n",
       "converged:                       True   LL-Null:                       -14499.\n",
       "Covariance Type:            nonrobust   LLR p-value:                     0.000\n",
       "==================================================================================\n",
       "                     coef    std err          z      P>|z|      [0.025      0.975]\n",
       "----------------------------------------------------------------------------------\n",
       "const            -33.3305     15.383     -2.167      0.030     -63.481      -3.180\n",
       "age                0.0016      0.002      0.994      0.320      -0.002       0.005\n",
       "duration           0.0046   7.13e-05     63.888      0.000       0.004       0.005\n",
       "campaign          -0.0431      0.011     -3.808      0.000      -0.065      -0.021\n",
       "previous           0.1995      0.029      6.788      0.000       0.142       0.257\n",
       "emp.var.rate      -0.6540      0.066     -9.888      0.000      -0.784      -0.524\n",
       "cons.price.idx     0.7169      0.098      7.299      0.000       0.524       0.909\n",
       "cons.conf.idx      0.0426      0.006      7.435      0.000       0.031       0.054\n",
       "euribor3m          0.0560      0.083      0.677      0.498      -0.106       0.218\n",
       "nr.employed       -0.0070      0.001     -4.951      0.000      -0.010      -0.004\n",
       "==================================================================================\n",
       "\"\"\""
      ]
     },
     "execution_count": 13,
     "metadata": {},
     "output_type": "execute_result"
    }
   ],
   "source": [
    "# Logestic regression before PCA using Statsmodels\n",
    "\n",
    "y_b = bm3['deposit']\n",
    "x1_b = bm2\n",
    "x_b = sm.add_constant(x1_b)\n",
    "reg_log_before = sm.Logit(y_b,x_b)\n",
    "results_log_before = reg_log_before.fit()\n",
    "results_log_before.summary()"
   ]
  },
  {
   "cell_type": "code",
   "execution_count": 14,
   "metadata": {},
   "outputs": [
    {
     "name": "stdout",
     "output_type": "stream",
     "text": [
      "Optimization terminated successfully.\n",
      "         Current function value: 0.240534\n",
      "         Iterations 8\n"
     ]
    },
    {
     "data": {
      "text/html": [
       "<table class=\"simpletable\">\n",
       "<caption>Logit Regression Results</caption>\n",
       "<tr>\n",
       "  <th>Dep. Variable:</th>        <td>deposit</td>     <th>  No. Observations:  </th>  <td> 41188</td> \n",
       "</tr>\n",
       "<tr>\n",
       "  <th>Model:</th>                 <td>Logit</td>      <th>  Df Residuals:      </th>  <td> 41184</td> \n",
       "</tr>\n",
       "<tr>\n",
       "  <th>Method:</th>                 <td>MLE</td>       <th>  Df Model:          </th>  <td>     3</td> \n",
       "</tr>\n",
       "<tr>\n",
       "  <th>Date:</th>            <td>Wed, 08 Sep 2021</td> <th>  Pseudo R-squ.:     </th>  <td>0.3167</td> \n",
       "</tr>\n",
       "<tr>\n",
       "  <th>Time:</th>                <td>16:55:53</td>     <th>  Log-Likelihood:    </th> <td> -9907.1</td>\n",
       "</tr>\n",
       "<tr>\n",
       "  <th>converged:</th>             <td>True</td>       <th>  LL-Null:           </th> <td> -14499.</td>\n",
       "</tr>\n",
       "<tr>\n",
       "  <th>Covariance Type:</th>     <td>nonrobust</td>    <th>  LLR p-value:       </th>  <td> 0.000</td> \n",
       "</tr>\n",
       "</table>\n",
       "<table class=\"simpletable\">\n",
       "<tr>\n",
       "    <td></td>       <th>coef</th>     <th>std err</th>      <th>z</th>      <th>P>|z|</th>  <th>[0.025</th>    <th>0.975]</th>  \n",
       "</tr>\n",
       "<tr>\n",
       "  <th>const</th> <td>   -3.0226</td> <td>    0.028</td> <td> -107.527</td> <td> 0.000</td> <td>   -3.078</td> <td>   -2.967</td>\n",
       "</tr>\n",
       "<tr>\n",
       "  <th>PCA_1</th> <td>    0.6427</td> <td>    0.011</td> <td>   60.717</td> <td> 0.000</td> <td>    0.622</td> <td>    0.663</td>\n",
       "</tr>\n",
       "<tr>\n",
       "  <th>PCA_2</th> <td>    0.4918</td> <td>    0.015</td> <td>   32.663</td> <td> 0.000</td> <td>    0.462</td> <td>    0.521</td>\n",
       "</tr>\n",
       "<tr>\n",
       "  <th>PCA_3</th> <td>    1.3002</td> <td>    0.022</td> <td>   60.169</td> <td> 0.000</td> <td>    1.258</td> <td>    1.343</td>\n",
       "</tr>\n",
       "</table>"
      ],
      "text/plain": [
       "<class 'statsmodels.iolib.summary.Summary'>\n",
       "\"\"\"\n",
       "                           Logit Regression Results                           \n",
       "==============================================================================\n",
       "Dep. Variable:                deposit   No. Observations:                41188\n",
       "Model:                          Logit   Df Residuals:                    41184\n",
       "Method:                           MLE   Df Model:                            3\n",
       "Date:                Wed, 08 Sep 2021   Pseudo R-squ.:                  0.3167\n",
       "Time:                        16:55:53   Log-Likelihood:                -9907.1\n",
       "converged:                       True   LL-Null:                       -14499.\n",
       "Covariance Type:            nonrobust   LLR p-value:                     0.000\n",
       "==============================================================================\n",
       "                 coef    std err          z      P>|z|      [0.025      0.975]\n",
       "------------------------------------------------------------------------------\n",
       "const         -3.0226      0.028   -107.527      0.000      -3.078      -2.967\n",
       "PCA_1          0.6427      0.011     60.717      0.000       0.622       0.663\n",
       "PCA_2          0.4918      0.015     32.663      0.000       0.462       0.521\n",
       "PCA_3          1.3002      0.022     60.169      0.000       1.258       1.343\n",
       "==============================================================================\n",
       "\"\"\""
      ]
     },
     "execution_count": 14,
     "metadata": {},
     "output_type": "execute_result"
    }
   ],
   "source": [
    "# Logestic regression after PCA using Statsmodels\n",
    "\n",
    "y_a = bm_pca['deposit']\n",
    "x1_a = bm_pca[['PCA_1','PCA_2','PCA_3']]\n",
    "x_a = sm.add_constant(x1_a)\n",
    "reg_log_after = sm.Logit(y_a,x_a)\n",
    "results_log_after = reg_log_after.fit()\n",
    "results_log_after.summary()"
   ]
  },
  {
   "cell_type": "markdown",
   "metadata": {},
   "source": [
    "## Comparing two models using confusion matrix\n",
    "- Comparing two models can be done by calculating accuracy of each model in predicting target variable"
   ]
  },
  {
   "cell_type": "markdown",
   "metadata": {},
   "source": [
    "### Accuracy of logestic regression model before PCA"
   ]
  },
  {
   "cell_type": "code",
   "execution_count": 15,
   "metadata": {},
   "outputs": [
    {
     "data": {
      "text/html": [
       "<div>\n",
       "<style scoped>\n",
       "    .dataframe tbody tr th:only-of-type {\n",
       "        vertical-align: middle;\n",
       "    }\n",
       "\n",
       "    .dataframe tbody tr th {\n",
       "        vertical-align: top;\n",
       "    }\n",
       "\n",
       "    .dataframe thead th {\n",
       "        text-align: right;\n",
       "    }\n",
       "</style>\n",
       "<table border=\"1\" class=\"dataframe\">\n",
       "  <thead>\n",
       "    <tr style=\"text-align: right;\">\n",
       "      <th></th>\n",
       "      <th>Predicted 0</th>\n",
       "      <th>Predicted 1</th>\n",
       "    </tr>\n",
       "  </thead>\n",
       "  <tbody>\n",
       "    <tr>\n",
       "      <th>Actual 0</th>\n",
       "      <td>35702.0</td>\n",
       "      <td>846.0</td>\n",
       "    </tr>\n",
       "    <tr>\n",
       "      <th>Actual 1</th>\n",
       "      <td>3060.0</td>\n",
       "      <td>1580.0</td>\n",
       "    </tr>\n",
       "  </tbody>\n",
       "</table>\n",
       "</div>"
      ],
      "text/plain": [
       "          Predicted 0  Predicted 1\n",
       "Actual 0      35702.0        846.0\n",
       "Actual 1       3060.0       1580.0"
      ]
     },
     "execution_count": 15,
     "metadata": {},
     "output_type": "execute_result"
    }
   ],
   "source": [
    "# A prediction table (confusion matrix)  \n",
    "\n",
    "results_log_before.pred_table()\n",
    "cm_df = pd.DataFrame(results_log_before.pred_table())\n",
    "cm_df.columns = ['Predicted 0','Predicted 1']\n",
    "cm_df = cm_df.rename(index={0: 'Actual 0',1:'Actual 1'})\n",
    "cm_df"
   ]
  },
  {
   "cell_type": "code",
   "execution_count": 17,
   "metadata": {},
   "outputs": [
    {
     "name": "stdout",
     "output_type": "stream",
     "text": [
      "Accuracy of logestic regression model before PCA:  0.9051665533650578\n"
     ]
    }
   ],
   "source": [
    "# Calculate the accuracy of the model\n",
    "\n",
    "cm = np.array(cm_df)\n",
    "accuracy_train = (cm[0,0]+cm[1,1])/cm.sum()\n",
    "print('Accuracy of logestic regression model before PCA: ', accuracy_train)"
   ]
  },
  {
   "cell_type": "markdown",
   "metadata": {},
   "source": [
    "### Accuracy of logestic regression model after PCA"
   ]
  },
  {
   "cell_type": "code",
   "execution_count": 18,
   "metadata": {},
   "outputs": [
    {
     "data": {
      "text/html": [
       "<div>\n",
       "<style scoped>\n",
       "    .dataframe tbody tr th:only-of-type {\n",
       "        vertical-align: middle;\n",
       "    }\n",
       "\n",
       "    .dataframe tbody tr th {\n",
       "        vertical-align: top;\n",
       "    }\n",
       "\n",
       "    .dataframe thead th {\n",
       "        text-align: right;\n",
       "    }\n",
       "</style>\n",
       "<table border=\"1\" class=\"dataframe\">\n",
       "  <thead>\n",
       "    <tr style=\"text-align: right;\">\n",
       "      <th></th>\n",
       "      <th>Predicted 0</th>\n",
       "      <th>Predicted 1</th>\n",
       "    </tr>\n",
       "  </thead>\n",
       "  <tbody>\n",
       "    <tr>\n",
       "      <th>Actual 0</th>\n",
       "      <td>35758.0</td>\n",
       "      <td>790.0</td>\n",
       "    </tr>\n",
       "    <tr>\n",
       "      <th>Actual 1</th>\n",
       "      <td>3347.0</td>\n",
       "      <td>1293.0</td>\n",
       "    </tr>\n",
       "  </tbody>\n",
       "</table>\n",
       "</div>"
      ],
      "text/plain": [
       "          Predicted 0  Predicted 1\n",
       "Actual 0      35758.0        790.0\n",
       "Actual 1       3347.0       1293.0"
      ]
     },
     "execution_count": 18,
     "metadata": {},
     "output_type": "execute_result"
    }
   ],
   "source": [
    "# A prediction table (confusion matrix)  \n",
    "\n",
    "results_log_after.pred_table()\n",
    "cm_df = pd.DataFrame(results_log_after.pred_table())\n",
    "cm_df.columns = ['Predicted 0','Predicted 1']\n",
    "cm_df = cm_df.rename(index={0: 'Actual 0',1:'Actual 1'})\n",
    "cm_df"
   ]
  },
  {
   "cell_type": "code",
   "execution_count": 19,
   "metadata": {},
   "outputs": [
    {
     "name": "stdout",
     "output_type": "stream",
     "text": [
      "Accuracy of logestic regression model after PCA:  0.8995581237253569\n"
     ]
    }
   ],
   "source": [
    "# Calculate the accuracy of the model\n",
    "\n",
    "cm = np.array(cm_df)\n",
    "accuracy_train = (cm[0,0]+cm[1,1])/cm.sum()\n",
    "print('Accuracy of logestic regression model after PCA: ', accuracy_train)"
   ]
  },
  {
   "cell_type": "markdown",
   "metadata": {},
   "source": [
    "## Interpretation of results\n",
    "- The overall accuracy of both regression models before and after applying Principal Component Analysis are very close but with this slight difference that the model with all numeric features can predict outpot better, when target is 'yes' and tne model with three-dimensional features can predict outpot better, when target is 'no'"
   ]
  },
  {
   "cell_type": "markdown",
   "metadata": {},
   "source": [
    "# K-Means Clustering"
   ]
  },
  {
   "cell_type": "markdown",
   "metadata": {},
   "source": [
    "- The K-Means clustering method is an unsupervised machine learning technique used to identify clusters of data objects in a dataset. There are many different types of clustering methods, but k-means is one of the oldest and most approachable. The goal of K-Means algorithm is to find groups in the data, with the number of groups represented by the variable K. The algorithm works iteratively to assign each data point to one of K groups based on the features that are provided. Data points are clustered based on feature similarity. \n",
    "- In this section the popular KMeans machine learning package sfrom cikit-learn has been applied to do cluster analysis."
   ]
  },
  {
   "cell_type": "markdown",
   "metadata": {},
   "source": [
    "## Features included in the model\n",
    "- The following two features have been selected for K-Mean analysis:\n",
    "- 1) euribor3m: euribor 3 month rate - daily indicator (euribor is the basic rate of interest used in lending between banks on the European Union interbank market and also used as a reference for setting the interest rate on other loans).\n",
    "- 2) cons.price.idx: consumer price index - monthly indicator (numeric)"
   ]
  },
  {
   "cell_type": "code",
   "execution_count": 21,
   "metadata": {},
   "outputs": [
    {
     "data": {
      "image/png": "[encoded data removed]",
      "text/plain": [
       "<Figure size 432x288 with 1 Axes>"
      ]
     },
     "metadata": {},
     "output_type": "display_data"
    }
   ],
   "source": [
    "# Defining dataframe\n",
    "sns.set(font_scale=1.5)\n",
    "x = bm[['euribor3m','cons.price.idx']]\n",
    "\n",
    "# Ploting data \n",
    "plt.scatter(x['euribor3m'],x['cons.price.idx'])\n",
    "plt.title('Scatter plot of features', fontsize=20);"
   ]
  },
  {
   "cell_type": "markdown",
   "metadata": {},
   "source": [
    "## Feature Scaling\n",
    "- The process of transforming numerical features to use the same scale is known as feature scaling. It’s an important data preprocessing step for most distance-based machine learning algorithms because it can have a significant impact on the performance of the algorithm.\n",
    "- There are several approaches to implementing feature scaling. In this section, we use scale method from preprocessing class in sklearn. This class implements a type of feature scaling called standardization. Standardization scales, or shifts, the values for each numerical feature in the dataset so that the features have a mean of 0 and standard deviation of 1:"
   ]
  },
  {
   "cell_type": "code",
   "execution_count": 22,
   "metadata": {},
   "outputs": [
    {
     "data": {
      "text/plain": [
       "array([[0.71, 0.72],\n",
       "       [0.71, 0.72],\n",
       "       [0.71, 0.72],\n",
       "       ...,\n",
       "       [-1.50, 2.06],\n",
       "       [-1.50, 2.06],\n",
       "       [-1.50, 2.06]])"
      ]
     },
     "execution_count": 22,
     "metadata": {},
     "output_type": "execute_result"
    }
   ],
   "source": [
    "# Standardize the variables\n",
    "x_scaled = preprocessing.scale(x)\n",
    "x_scaled"
   ]
  },
  {
   "cell_type": "markdown",
   "metadata": {},
   "source": [
    "## K-Means analysis with four clusters\n",
    "- The K-Means algorithm is run with k = 3. The number of clusters is approved by the Elbow Method in the next part.\n",
    "- The new dataframe created with clusters, contains the original values but predicted clusters are based on standardized data."
   ]
  },
  {
   "cell_type": "code",
   "execution_count": 28,
   "metadata": {},
   "outputs": [
    {
     "data": {
      "text/html": [
       "<div>\n",
       "<style scoped>\n",
       "    .dataframe tbody tr th:only-of-type {\n",
       "        vertical-align: middle;\n",
       "    }\n",
       "\n",
       "    .dataframe tbody tr th {\n",
       "        vertical-align: top;\n",
       "    }\n",
       "\n",
       "    .dataframe thead th {\n",
       "        text-align: right;\n",
       "    }\n",
       "</style>\n",
       "<table border=\"1\" class=\"dataframe\">\n",
       "  <thead>\n",
       "    <tr style=\"text-align: right;\">\n",
       "      <th></th>\n",
       "      <th>euribor3m</th>\n",
       "      <th>cons.price.idx</th>\n",
       "      <th>Cluster</th>\n",
       "    </tr>\n",
       "  </thead>\n",
       "  <tbody>\n",
       "    <tr>\n",
       "      <th>0</th>\n",
       "      <td>4.857</td>\n",
       "      <td>93.994</td>\n",
       "      <td>1</td>\n",
       "    </tr>\n",
       "    <tr>\n",
       "      <th>1</th>\n",
       "      <td>4.857</td>\n",
       "      <td>93.994</td>\n",
       "      <td>1</td>\n",
       "    </tr>\n",
       "    <tr>\n",
       "      <th>2</th>\n",
       "      <td>4.857</td>\n",
       "      <td>93.994</td>\n",
       "      <td>1</td>\n",
       "    </tr>\n",
       "    <tr>\n",
       "      <th>3</th>\n",
       "      <td>4.857</td>\n",
       "      <td>93.994</td>\n",
       "      <td>1</td>\n",
       "    </tr>\n",
       "    <tr>\n",
       "      <th>4</th>\n",
       "      <td>4.857</td>\n",
       "      <td>93.994</td>\n",
       "      <td>1</td>\n",
       "    </tr>\n",
       "  </tbody>\n",
       "</table>\n",
       "</div>"
      ],
      "text/plain": [
       "   euribor3m  cons.price.idx  Cluster\n",
       "0      4.857          93.994        1\n",
       "1      4.857          93.994        1\n",
       "2      4.857          93.994        1\n",
       "3      4.857          93.994        1\n",
       "4      4.857          93.994        1"
      ]
     },
     "execution_count": 28,
     "metadata": {},
     "output_type": "execute_result"
    }
   ],
   "source": [
    "# Clustering\n",
    "kmeans = KMeans(4)\n",
    "kmeans.fit(x_scaled)\n",
    "data_with_clusters = x.copy()\n",
    "data_with_clusters['Cluster'] = kmeans.fit_predict(x_scaled)\n",
    "data_with_clusters = data_with_clusters.reset_index(drop=True)\n",
    "data_with_clusters.head()"
   ]
  },
  {
   "cell_type": "markdown",
   "metadata": {},
   "source": [
    "## Visualisation\n",
    "- The scatter plot of clustered features reperesents three seperated clusters with different colors. "
   ]
  },
  {
   "cell_type": "code",
   "execution_count": 29,
   "metadata": {},
   "outputs": [
    {
     "data": {
      "image/png": "[encoded data removed]",
      "text/plain": [
       "<Figure size 432x288 with 1 Axes>"
      ]
     },
     "metadata": {},
     "output_type": "display_data"
    }
   ],
   "source": [
    "# Ploting clustered data \n",
    "plt.scatter(data_with_clusters['euribor3m'],data_with_clusters['cons.price.idx'],\n",
    "            c=data_with_clusters['Cluster'],cmap='rainbow')\n",
    "plt.title('Scatter plot of clustered features', fontsize=20);"
   ]
  },
  {
   "cell_type": "markdown",
   "metadata": {},
   "source": [
    "## Choosing the Appropriate Number of Clusters\n",
    "- In the following, we used elbow method method that is commonly used to evaluate the appropriate number of clusters:\n",
    "- In order to perform the elbow method, k-means alghorithm will be run several times and each time k increments by 1. In each iteration the SSE is recorded and will be showed on a plot along with cluster numbers."
   ]
  },
  {
   "cell_type": "code",
   "execution_count": 30,
   "metadata": {},
   "outputs": [
    {
     "data": {
      "text/plain": [
       "[82376.00000001078,\n",
       " 23726.389103973004,\n",
       " 13702.683546947994,\n",
       " 6375.165455948046,\n",
       " 3796.693453880032,\n",
       " 2018.4498812760899,\n",
       " 1122.7523241686138]"
      ]
     },
     "execution_count": 30,
     "metadata": {},
     "output_type": "execute_result"
    }
   ],
   "source": [
    "# WCSS\n",
    "wcss = []\n",
    "for i in range(1,8):\n",
    "    kmeans = KMeans(i)\n",
    "    kmeans.fit(x_scaled)\n",
    "    wcss_iter = kmeans.inertia_\n",
    "    wcss.append(wcss_iter)\n",
    "wcss"
   ]
  },
  {
   "cell_type": "code",
   "execution_count": 32,
   "metadata": {},
   "outputs": [
    {
     "data": {
      "image/png": "[encoded data removed]",
      "text/plain": [
       "<Figure size 432x288 with 1 Axes>"
      ]
     },
     "metadata": {},
     "output_type": "display_data"
    }
   ],
   "source": [
    "number_clusters = range(1,8)\n",
    "plt.plot(number_clusters,wcss)\n",
    "plt.title('The Elbow Method')\n",
    "plt.xlabel('Number of clusters')\n",
    "plt.ylabel('WCSS')\n",
    "plt.show()"
   ]
  },
  {
   "cell_type": "markdown",
   "metadata": {},
   "source": [
    "## Interpretation of results\n",
    "- Considering the elbow method, the number of four is the best number for this cluster analysis"
   ]
  },
  {
   "cell_type": "markdown",
   "metadata": {},
   "source": [
    "### References:\n",
    "- https://machinelearningmastery.com/principal-components-analysis-for-dimensionality-reduction-in-python/\n",
    "- https://realpython.com/k-means-clustering-python/ "
   ]
  }
 ],
 "metadata": {
  "kernelspec": {
   "display_name": "Python 3",
   "language": "python",
   "name": "python3"
  },
  "language_info": {
   "codemirror_mode": {
    "name": "ipython",
    "version": 3
   },
   "file_extension": ".py",
   "mimetype": "text/x-python",
   "name": "python",
   "nbconvert_exporter": "python",
   "pygments_lexer": "ipython3",
   "version": "3.8.3"
  }
 },
 "nbformat": 4,
 "nbformat_minor": 4
}
